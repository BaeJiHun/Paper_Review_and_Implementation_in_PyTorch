{
  "nbformat": 4,
  "nbformat_minor": 0,
  "metadata": {
    "colab": {
      "name": "AlexNet.ipynb",
      "provenance": [],
      "collapsed_sections": [],
      "authorship_tag": "ABX9TyMtJ7lxEjtiTOWhysN4Heda",
      "include_colab_link": true
    },
    "kernelspec": {
      "name": "python3",
      "display_name": "Python 3"
    },
    "accelerator": "GPU"
  },
  "cells": [
    {
      "cell_type": "markdown",
      "metadata": {
        "id": "view-in-github",
        "colab_type": "text"
      },
      "source": [
        "<a href=\"https://colab.research.google.com/github/Seonghoon-Yu/paper-implement-in-pytorch/blob/master/Classification/AlexNet.ipynb\" target=\"_parent\"><img src=\"https://colab.research.google.com/assets/colab-badge.svg\" alt=\"Open In Colab\"/></a>"
      ]
    },
    {
      "cell_type": "code",
      "metadata": {
        "colab": {
          "base_uri": "https://localhost:8080/"
        },
        "id": "yBwG5mW_msWH",
        "outputId": "c17d887b-ea4e-465c-ce2b-14f09a4774d4"
      },
      "source": [
        "from google.colab import drive\r\n",
        "drive.mount('alexnet')"
      ],
      "execution_count": 2,
      "outputs": [
        {
          "output_type": "stream",
          "text": [
            "Drive already mounted at alexnet; to attempt to forcibly remount, call drive.mount(\"alexnet\", force_remount=True).\n"
          ],
          "name": "stdout"
        }
      ]
    },
    {
      "cell_type": "markdown",
      "metadata": {
        "id": "de2iJRW4oaiT"
      },
      "source": [
        "# 데이터셋 불러오고 transformation 적용하기\r\n",
        "데이터셋은 torchvision에서 제공하는 STL-10 dataset을 사용합니다.\r\n",
        "STL-10 dataset은 train과 test dataset만 제공합니다.\r\n",
        "따라서, test dataset을 분할해서 val dataset을 따로 만들어 주겠습니다.\r\n",
        "\r\n",
        "transformation은 resize, horizontal flip, normalize를 적용합니다.\r\n",
        "\r\n",
        "dataset을 불러오고 dataloader로 감싸줍니다."
      ]
    },
    {
      "cell_type": "code",
      "metadata": {
        "colab": {
          "base_uri": "https://localhost:8080/"
        },
        "id": "YZMzsRP_m2ws",
        "outputId": "6073e24e-c012-4c0f-d3e1-afd7370e4499"
      },
      "source": [
        "# loading training dataset\r\n",
        "from torchvision import datasets\r\n",
        "import torchvision.transforms as transforms\r\n",
        "import os\r\n",
        "\r\n",
        "# specify a data path\r\n",
        "path2data = '/data'\r\n",
        "\r\n",
        "# if not exists the path, make the path\r\n",
        "if not os.path.exists(path2data):\r\n",
        "    os.mkdir(path2data)\r\n",
        "\r\n",
        "# load STL10 train dataset, and check\r\n",
        "data_transformer = transforms.Compose([transforms.ToTensor()])\r\n",
        "train_ds = datasets.STL10(path2data, split='train', download=True, transform=data_transformer)\r\n",
        "print(train_ds.data.shape)"
      ],
      "execution_count": 98,
      "outputs": [
        {
          "output_type": "stream",
          "text": [
            "Files already downloaded and verified\n",
            "(5000, 3, 96, 96)\n"
          ],
          "name": "stdout"
        }
      ]
    },
    {
      "cell_type": "code",
      "metadata": {
        "colab": {
          "base_uri": "https://localhost:8080/"
        },
        "id": "vMGRj1JN4x29",
        "outputId": "0ebfed31-cf58-4c6a-e1c0-669f1c1bfebc"
      },
      "source": [
        "# load STL10 test dataset\r\n",
        "test0_ds = datasets.STL10(path2data, split='test', download=True, transform=data_transformer)\r\n",
        "print(test0_ds.data.shape)"
      ],
      "execution_count": 99,
      "outputs": [
        {
          "output_type": "stream",
          "text": [
            "Files already downloaded and verified\n",
            "(8000, 3, 96, 96)\n"
          ],
          "name": "stdout"
        }
      ]
    },
    {
      "cell_type": "code",
      "metadata": {
        "colab": {
          "base_uri": "https://localhost:8080/"
        },
        "id": "uCb5AJbr12pd",
        "outputId": "cc0a6922-2ad1-4ebf-fbac-484c2de6ee1b"
      },
      "source": [
        "# calculate the mean and standard deviation of train_ds\r\n",
        "import numpy as np\r\n",
        "\r\n",
        "meanRGB = [np.mean(x.numpy(), axis=(1,2)) for x, _ in train_ds]\r\n",
        "stdRGB = [np.std(x.numpy(), axis=(1,2)) for x, _ in train_ds]\r\n",
        "\r\n",
        "meanR = np.mean([m[0] for m in meanRGB])\r\n",
        "meanG = np.mean([m[1] for m in meanRGB])\r\n",
        "meanB = np.mean([m[2] for m in meanRGB])\r\n",
        "\r\n",
        "stdR = np.mean([s[0] for s in stdRGB])\r\n",
        "stdG = np.mean([s[1] for s in stdRGB])\r\n",
        "stdB = np.mean([s[2] for s in stdRGB])\r\n",
        "\r\n",
        "print(meanR, meanG, meanB)\r\n",
        "print(stdR, stdG, stdB)"
      ],
      "execution_count": 100,
      "outputs": [
        {
          "output_type": "stream",
          "text": [
            "0.4467106 0.43980986 0.40664646\n",
            "0.22414584 0.22148906 0.22389975\n"
          ],
          "name": "stdout"
        }
      ]
    },
    {
      "cell_type": "code",
      "metadata": {
        "id": "-UQuN3QN08fg"
      },
      "source": [
        "# define the image transformation for trains_ds\r\n",
        "# in paper, using FiveCrop, normalize, horizontal reflection\r\n",
        "train_transformer = transforms.Compose([\r\n",
        "                transforms.ToTensor(),\r\n",
        "                transforms.Resize(227),\r\n",
        "                transforms.RandomHorizontalFlip(),\r\n",
        "                transforms.Normalize([meanR, meanG, meanB], [stdR, stdG, stdB]),\r\n",
        "])\r\n",
        "\r\n",
        "# define the image transforamtion for test0_ds\r\n",
        "test_transformer = transforms.Compose([\r\n",
        "                transforms.ToTensor(),\r\n",
        "                transforms.Normalize([meanR, meanG, meanB], [stdR, stdG, stdB]),\r\n",
        "                transforms.Resize(227)\r\n",
        "])"
      ],
      "execution_count": 101,
      "outputs": []
    },
    {
      "cell_type": "code",
      "metadata": {
        "id": "ZejU9uap5TBX"
      },
      "source": [
        "# apply transformation to train_ds and test0_ds\r\n",
        "train_ds.transform = train_transformer\r\n",
        "test0_ds.transform = test_transformer"
      ],
      "execution_count": 102,
      "outputs": []
    },
    {
      "cell_type": "code",
      "metadata": {
        "colab": {
          "base_uri": "https://localhost:8080/"
        },
        "id": "bPFPgL27U3mW",
        "outputId": "0b983e44-9d04-4bbb-c67c-53e33b810380"
      },
      "source": [
        "img, _ = train_ds[1]\r\n",
        "print(img.shape)"
      ],
      "execution_count": 103,
      "outputs": [
        {
          "output_type": "stream",
          "text": [
            "torch.Size([3, 227, 227])\n"
          ],
          "name": "stdout"
        }
      ]
    },
    {
      "cell_type": "code",
      "metadata": {
        "colab": {
          "base_uri": "https://localhost:8080/",
          "height": 648
        },
        "id": "m1vbVlll5b5z",
        "outputId": "54289507-ab96-47d7-c729-ce6db3ac34cd"
      },
      "source": [
        "import torch\r\n",
        "from torchvision import utils\r\n",
        "import matplotlib.pyplot as plt\r\n",
        "import numpy as np\r\n",
        "%matplotlib inline\r\n",
        "\r\n",
        "# display the transformed sample images from train_ds\r\n",
        "\r\n",
        "# define helper function to show images\r\n",
        "def show(img, y=None, color=True):\r\n",
        "\r\n",
        "    npimg = img.numpy()\r\n",
        "    npimg_tr = np.transpose(npimg, (1, 2, 0))\r\n",
        "    plt.imshow(npimg_tr)\r\n",
        "    \r\n",
        "    # plt.imshow(npimg_tr)\r\n",
        "    if y is not None:\r\n",
        "        plt.title('labels: ' + str(y))\r\n",
        "\r\n",
        "np.random.seed(0)\r\n",
        "torch.manual_seed(0)\r\n",
        "\r\n",
        "# pick a random sample image \r\n",
        "rnd_inds = int(np.random.randint(0, len(train_ds), 1))\r\n",
        "print(rnd_inds)\r\n",
        "img, label = train_ds[rnd_inds]\r\n",
        "print('images indices: ', rnd_inds)\r\n",
        "\r\n",
        "plt.figure(figsize=(10, 10))\r\n",
        "show(img)"
      ],
      "execution_count": 104,
      "outputs": [
        {
          "output_type": "stream",
          "text": [
            "Clipping input data to the valid range for imshow with RGB data ([0..1] for floats or [0..255] for integers).\n"
          ],
          "name": "stderr"
        },
        {
          "output_type": "stream",
          "text": [
            "2732\n",
            "images indices:  2732\n"
          ],
          "name": "stdout"
        },
        {
          "output_type": "display_data",
          "data": {
            "image/png": "[encoded data removed]",
            "text/plain": [
              "<Figure size 720x720 with 1 Axes>"
            ]
          },
          "metadata": {
            "tags": [],
            "needs_background": "light"
          }
        }
      ]
    },
    {
      "cell_type": "code",
      "metadata": {
        "colab": {
          "base_uri": "https://localhost:8080/"
        },
        "id": "6y2P42QyFMGB",
        "outputId": "af638596-397e-4a59-fce1-4f9a2ed377ae"
      },
      "source": [
        "# count the number of images per category in train_ds\r\n",
        "import collections\r\n",
        "y_train = [y for _, y in train_ds]\r\n",
        "counter_train = collections.Counter(y_train)\r\n",
        "print(counter_train)"
      ],
      "execution_count": 105,
      "outputs": [
        {
          "output_type": "stream",
          "text": [
            "Counter({1: 500, 5: 500, 6: 500, 3: 500, 9: 500, 7: 500, 4: 500, 8: 500, 0: 500, 2: 500})\n"
          ],
          "name": "stdout"
        }
      ]
    },
    {
      "cell_type": "code",
      "metadata": {
        "colab": {
          "base_uri": "https://localhost:8080/"
        },
        "id": "K7RefwRg59pY",
        "outputId": "54d9a5a2-839a-47c0-9daa-8be381f138bc"
      },
      "source": [
        "# check test0 dataset\r\n",
        "print(test0_ds.data.shape)"
      ],
      "execution_count": 106,
      "outputs": [
        {
          "output_type": "stream",
          "text": [
            "(8000, 3, 96, 96)\n"
          ],
          "name": "stdout"
        }
      ]
    },
    {
      "cell_type": "code",
      "metadata": {
        "colab": {
          "base_uri": "https://localhost:8080/"
        },
        "id": "TbDzjkr3FiER",
        "outputId": "88b54db6-8714-4bc9-8475-d8350a55242d"
      },
      "source": [
        "# split the indices of test0_ds into two groups\r\n",
        "# there aren't validation dataset in STL10 dataset, so make validation dataset\r\n",
        "# by spliting test0 dataset\r\n",
        "from sklearn.model_selection import StratifiedShuffleSplit\r\n",
        "\r\n",
        "# StratifiedShuffleSplit splits indices of test0 in same proportion of labels\r\n",
        "sss = StratifiedShuffleSplit(n_splits=1, test_size=0.2, random_state=0)\r\n",
        "\r\n",
        "indices = list(range(len(test0_ds)))\r\n",
        "y_test0 = [y for _,y in test0_ds]\r\n",
        "\r\n",
        "for test_index, val_index in sss.split(indices, y_test0):\r\n",
        "    print('test :', len(test_index) , 'val :', len(val_index))"
      ],
      "execution_count": 107,
      "outputs": [
        {
          "output_type": "stream",
          "text": [
            "test : 6400 val : 1600\n"
          ],
          "name": "stdout"
        }
      ]
    },
    {
      "cell_type": "code",
      "metadata": {
        "id": "_iJmdVyaGSVZ"
      },
      "source": [
        "# create two datasets from test0_ds\r\n",
        "from torch.utils.data import Subset\r\n",
        "\r\n",
        "# if test0_ds is updated, val_ds and test_ds are updated\r\n",
        "# because val_ds and test_ds are a subset of test0_ds\r\n",
        "val_ds = Subset(test0_ds, val_index)\r\n",
        "test_ds = Subset(test0_ds, test_index)"
      ],
      "execution_count": 108,
      "outputs": []
    },
    {
      "cell_type": "code",
      "metadata": {
        "colab": {
          "base_uri": "https://localhost:8080/"
        },
        "id": "2SixkTMGJdkR",
        "outputId": "b07bc204-ea8a-47dc-ae7f-b869d8569eb7"
      },
      "source": [
        "# count the number of images per calss in val_ds and test_ds\r\n",
        "import collections\r\n",
        "import numpy as np\r\n",
        "\r\n",
        "y_test = [y for _, y in test_ds]\r\n",
        "y_val = [y for _, y in val_ds]\r\n",
        "\r\n",
        "counter_test = collections.Counter(y_test)\r\n",
        "counter_val = collections.Counter(y_val)\r\n",
        "print(counter_test)\r\n",
        "print(counter_val)"
      ],
      "execution_count": 109,
      "outputs": [
        {
          "output_type": "stream",
          "text": [
            "Counter({6: 640, 0: 640, 4: 640, 5: 640, 9: 640, 2: 640, 3: 640, 1: 640, 7: 640, 8: 640})\n",
            "Counter({2: 160, 8: 160, 3: 160, 6: 160, 4: 160, 1: 160, 5: 160, 9: 160, 0: 160, 7: 160})\n"
          ],
          "name": "stdout"
        }
      ]
    },
    {
      "cell_type": "code",
      "metadata": {
        "colab": {
          "base_uri": "https://localhost:8080/"
        },
        "id": "Dak5SRViJ8Ys",
        "outputId": "6055991a-c80b-4889-a4e3-572aedaab734"
      },
      "source": [
        "# create dataloaders from train_ds and val_ds\r\n",
        "from torch.utils.data import DataLoader\r\n",
        "\r\n",
        "train_dl = DataLoader(train_ds, batch_size=32, shuffle=True)\r\n",
        "val_dl = DataLoader(val_ds, batch_size=32, shuffle=False)\r\n",
        "\r\n",
        "# check dataloader\r\n",
        "for x,y in train_dl:\r\n",
        "    print(x.shape)\r\n",
        "    print(y.shape)\r\n",
        "    break\r\n",
        "\r\n",
        "for x,y in val_dl:\r\n",
        "    print(x.shape)\r\n",
        "    print(y.shape)\r\n",
        "    break"
      ],
      "execution_count": 110,
      "outputs": [
        {
          "output_type": "stream",
          "text": [
            "torch.Size([32, 3, 227, 227])\n",
            "torch.Size([32])\n",
            "torch.Size([32, 3, 227, 227])\n",
            "torch.Size([32])\n"
          ],
          "name": "stdout"
        }
      ]
    },
    {
      "cell_type": "markdown",
      "metadata": {
        "id": "1oRCb6lVKkhp"
      },
      "source": [
        "# 모델 구축하기"
      ]
    },
    {
      "cell_type": "code",
      "metadata": {
        "colab": {
          "base_uri": "https://localhost:8080/"
        },
        "id": "1QojQn23Kc4F",
        "outputId": "5982b5d4-2df4-4abf-923e-e85f11a50ab5"
      },
      "source": [
        "# define device\r\n",
        "device = torch.device('cuda' if torch.cuda.is_available() else 'cpu')\r\n",
        "print(device)"
      ],
      "execution_count": 111,
      "outputs": [
        {
          "output_type": "stream",
          "text": [
            "cuda\n"
          ],
          "name": "stdout"
        }
      ]
    },
    {
      "cell_type": "code",
      "metadata": {
        "id": "_UKd_DfrKycR"
      },
      "source": [
        "import torch.nn as nn\r\n",
        "import torch.nn.functional as F\r\n",
        "\r\n",
        "class AlexNet(nn.Module):\r\n",
        "    def __init__(self, num_classes=10):\r\n",
        "        super().__init__()\r\n",
        "        # input size : (b x 3 x 227 x 227)\r\n",
        "        # 논문에는 image 크기가 224 pixel이라고 나와 있지만, 오타입니다.\r\n",
        "        # 227x227을 사용합니다.\r\n",
        "\r\n",
        "        # Conv layer\r\n",
        "        self.net = nn.Sequential(\r\n",
        "            nn.Conv2d(3, 96, kernel_size=11, stride=4, padding=0), # (b x 96 x 55 x 55)\r\n",
        "            nn.ReLU(inplace=True),\r\n",
        "            nn.LocalResponseNorm(size=5, alpha=0.0001, beta=0.75, k=2),\r\n",
        "            nn.MaxPool2d(kernel_size=3, stride=2), # (b x 96 x 27 x 27)\r\n",
        "\r\n",
        "            nn.Conv2d(96, 256, kernel_size=5, stride=1, padding=2), # (b x 256 x 27 x 27)\r\n",
        "            nn.ReLU(),\r\n",
        "            nn.LocalResponseNorm(size=5, alpha=0.0001, beta=0.75, k=2),\r\n",
        "            nn.MaxPool2d(kernel_size=3, stride=2), # (b x 256 x 13 x 13)\r\n",
        "\r\n",
        "            nn.Conv2d(256, 384, 3, 1, 1), # (b x 384 x 13 x 13)\r\n",
        "            nn.ReLU(),\r\n",
        "\r\n",
        "            nn.Conv2d(384, 384, 3, 1, 1), # (b x 384 x 13 x 13)\r\n",
        "            nn.ReLU(),\r\n",
        "\r\n",
        "            nn.Conv2d(384, 256, 3, 1, 1), # (b x 256 x 13 x 13)\r\n",
        "            nn.ReLU(),\r\n",
        "            nn.MaxPool2d(3, 2), # (b x 256 x 6 x 6)\r\n",
        "        )\r\n",
        "\r\n",
        "        # fc layer\r\n",
        "        self.classifier = nn.Sequential(\r\n",
        "            nn.Dropout(p=0.5, inplace=True),\r\n",
        "            nn.Linear(in_features=(256 * 6 * 6), out_features=4096),\r\n",
        "            nn.ReLU(),\r\n",
        "            nn.Dropout(p=0.5, inplace=True),\r\n",
        "            nn.Linear(in_features=4096, out_features=4096),\r\n",
        "            nn.ReLU(),\r\n",
        "            nn.Linear(in_features=4096, out_features=num_classes),\r\n",
        "        )\r\n",
        "\r\n",
        "        # weight initialization\r\n",
        "        self.init_weight()\r\n",
        "\r\n",
        "    # define weight initialization function\r\n",
        "    def init_weight(self):\r\n",
        "        for layer in self.net:\r\n",
        "            if isinstance(layer, nn.Conv2d):\r\n",
        "                nn.init.normal_(layer.weight, mean=0, std=0.01)\r\n",
        "                nn.init.constant_(layer.bias, 0)\r\n",
        "        # in paper, initialize bias to 1 for conv2, 4, 5 layer\r\n",
        "        nn.init.constant_(self.net[4].bias, 1)\r\n",
        "        nn.init.constant_(self.net[10].bias, 1)\r\n",
        "        nn.init.constant_(self.net[12].bias, 1)\r\n",
        "    \r\n",
        "    def forward(self,x):\r\n",
        "        x = self.net(x)\r\n",
        "        x = x.view(-1, 256 * 6* 6)\r\n",
        "        x = self.classifier(x)\r\n",
        "        return x"
      ],
      "execution_count": 112,
      "outputs": []
    },
    {
      "cell_type": "code",
      "metadata": {
        "id": "H0ne1D_0RDuk",
        "colab": {
          "base_uri": "https://localhost:8080/"
        },
        "outputId": "20c8960a-cf74-4ad3-bcc3-70c231111848"
      },
      "source": [
        "# check the model\r\n",
        "model = AlexNet().to(device)\r\n",
        "print(model)"
      ],
      "execution_count": 113,
      "outputs": [
        {
          "output_type": "stream",
          "text": [
            "AlexNet(\n",
            "  (net): Sequential(\n",
            "    (0): Conv2d(3, 96, kernel_size=(11, 11), stride=(4, 4))\n",
            "    (1): ReLU(inplace=True)\n",
            "    (2): LocalResponseNorm(5, alpha=0.0001, beta=0.75, k=2)\n",
            "    (3): MaxPool2d(kernel_size=3, stride=2, padding=0, dilation=1, ceil_mode=False)\n",
            "    (4): Conv2d(96, 256, kernel_size=(5, 5), stride=(1, 1), padding=(2, 2))\n",
            "    (5): ReLU()\n",
            "    (6): LocalResponseNorm(5, alpha=0.0001, beta=0.75, k=2)\n",
            "    (7): MaxPool2d(kernel_size=3, stride=2, padding=0, dilation=1, ceil_mode=False)\n",
            "    (8): Conv2d(256, 384, kernel_size=(3, 3), stride=(1, 1), padding=(1, 1))\n",
            "    (9): ReLU()\n",
            "    (10): Conv2d(384, 384, kernel_size=(3, 3), stride=(1, 1), padding=(1, 1))\n",
            "    (11): ReLU()\n",
            "    (12): Conv2d(384, 256, kernel_size=(3, 3), stride=(1, 1), padding=(1, 1))\n",
            "    (13): ReLU()\n",
            "    (14): MaxPool2d(kernel_size=3, stride=2, padding=0, dilation=1, ceil_mode=False)\n",
            "  )\n",
            "  (classifier): Sequential(\n",
            "    (0): Dropout(p=0.5, inplace=True)\n",
            "    (1): Linear(in_features=9216, out_features=4096, bias=True)\n",
            "    (2): ReLU()\n",
            "    (3): Dropout(p=0.5, inplace=True)\n",
            "    (4): Linear(in_features=4096, out_features=4096, bias=True)\n",
            "    (5): ReLU()\n",
            "    (6): Linear(in_features=4096, out_features=10, bias=True)\n",
            "  )\n",
            ")\n"
          ],
          "name": "stdout"
        }
      ]
    },
    {
      "cell_type": "code",
      "metadata": {
        "colab": {
          "base_uri": "https://localhost:8080/"
        },
        "id": "vFONhHtRseMg",
        "outputId": "00eeda66-edf0-40d9-eb18-fe6f4128b955"
      },
      "source": [
        "# get the model summary\r\n",
        "from torchsummary import summary\r\n",
        "summary(Model, input_size=(3, 227, 227), device=device.type)"
      ],
      "execution_count": 114,
      "outputs": [
        {
          "output_type": "stream",
          "text": [
            "----------------------------------------------------------------\n",
            "        Layer (type)               Output Shape         Param #\n",
            "================================================================\n",
            "            Conv2d-1           [-1, 96, 55, 55]          34,944\n",
            "              ReLU-2           [-1, 96, 55, 55]               0\n",
            " LocalResponseNorm-3           [-1, 96, 55, 55]               0\n",
            "         MaxPool2d-4           [-1, 96, 27, 27]               0\n",
            "            Conv2d-5          [-1, 256, 27, 27]         614,656\n",
            "              ReLU-6          [-1, 256, 27, 27]               0\n",
            " LocalResponseNorm-7          [-1, 256, 27, 27]               0\n",
            "         MaxPool2d-8          [-1, 256, 13, 13]               0\n",
            "            Conv2d-9          [-1, 384, 13, 13]         885,120\n",
            "             ReLU-10          [-1, 384, 13, 13]               0\n",
            "           Conv2d-11          [-1, 384, 13, 13]       1,327,488\n",
            "             ReLU-12          [-1, 384, 13, 13]               0\n",
            "           Conv2d-13          [-1, 256, 13, 13]         884,992\n",
            "             ReLU-14          [-1, 256, 13, 13]               0\n",
            "        MaxPool2d-15            [-1, 256, 6, 6]               0\n",
            "          Dropout-16                 [-1, 9216]               0\n",
            "           Linear-17                 [-1, 4096]      37,752,832\n",
            "             ReLU-18                 [-1, 4096]               0\n",
            "          Dropout-19                 [-1, 4096]               0\n",
            "           Linear-20                 [-1, 4096]      16,781,312\n",
            "             ReLU-21                 [-1, 4096]               0\n",
            "           Linear-22                   [-1, 10]          40,970\n",
            "================================================================\n",
            "Total params: 58,322,314\n",
            "Trainable params: 58,322,314\n",
            "Non-trainable params: 0\n",
            "----------------------------------------------------------------\n",
            "Input size (MB): 0.59\n",
            "Forward/backward pass size (MB): 14.72\n",
            "Params size (MB): 222.48\n",
            "Estimated Total Size (MB): 237.79\n",
            "----------------------------------------------------------------\n"
          ],
          "name": "stdout"
        }
      ]
    },
    {
      "cell_type": "code",
      "metadata": {
        "colab": {
          "base_uri": "https://localhost:8080/"
        },
        "id": "WAc2aPwpwUSw",
        "outputId": "f61315a6-049a-4b43-e9f7-b498523e4acb"
      },
      "source": [
        "# check weight initialization\r\n",
        "for p in model.parameters():\r\n",
        "    print(p)\r\n",
        "    break"
      ],
      "execution_count": 115,
      "outputs": [
        {
          "output_type": "stream",
          "text": [
            "Parameter containing:\n",
            "tensor([[[[ 4.9553e-03,  1.1757e-02, -4.9984e-03,  ...,  1.1168e-02,\n",
            "            7.6047e-03, -2.9483e-03],\n",
            "          [ 1.5819e-02,  2.2156e-03,  5.3924e-03,  ...,  9.6897e-03,\n",
            "           -3.1016e-03,  3.6131e-02],\n",
            "          [ 3.8232e-03,  5.0852e-03, -2.5402e-03,  ...,  1.5619e-02,\n",
            "           -7.5707e-03,  2.2261e-02],\n",
            "          ...,\n",
            "          [-8.4087e-03, -6.4275e-03, -9.9559e-03,  ...,  6.8794e-03,\n",
            "            9.8450e-03,  1.1603e-02],\n",
            "          [-2.0630e-02,  9.5328e-04, -2.5297e-02,  ..., -3.7217e-03,\n",
            "            2.4036e-02, -1.4934e-02],\n",
            "          [ 7.2152e-03,  1.9465e-02, -1.2955e-02,  ...,  7.3011e-03,\n",
            "           -5.9442e-03,  8.4038e-03]],\n",
            "\n",
            "         [[ 1.1292e-02, -2.0395e-02,  1.0607e-02,  ...,  3.9811e-03,\n",
            "           -1.0266e-02,  3.8012e-03],\n",
            "          [-1.5476e-03,  6.7589e-03, -9.2582e-03,  ..., -5.3932e-03,\n",
            "           -9.5759e-03, -5.4390e-03],\n",
            "          [-9.0408e-03, -2.1987e-03,  2.0577e-02,  ...,  7.3466e-03,\n",
            "            2.8506e-03, -5.2671e-03],\n",
            "          ...,\n",
            "          [-1.7172e-02, -7.0785e-03,  1.3170e-02,  ...,  4.2027e-03,\n",
            "           -6.2438e-03, -3.6757e-03],\n",
            "          [-2.6433e-03,  2.2370e-02,  1.3193e-02,  ...,  2.2572e-02,\n",
            "           -1.1469e-02, -5.0810e-03],\n",
            "          [ 3.2416e-03, -7.1429e-03, -2.5388e-03,  ..., -5.4752e-03,\n",
            "           -1.1471e-03, -1.0969e-02]],\n",
            "\n",
            "         [[ 7.0058e-04, -3.0425e-03,  1.1948e-02,  ..., -1.0278e-02,\n",
            "            5.3621e-03, -1.0469e-02],\n",
            "          [ 3.4481e-03, -1.5237e-03, -1.0147e-04,  ..., -3.2203e-02,\n",
            "            5.8819e-03,  3.8187e-03],\n",
            "          [-1.4825e-03, -4.8228e-03,  1.6379e-02,  ..., -1.4087e-02,\n",
            "            4.8412e-03, -5.8451e-03],\n",
            "          ...,\n",
            "          [ 1.1717e-02, -1.8860e-03, -6.3477e-03,  ..., -8.0474e-03,\n",
            "           -1.8446e-04,  2.6292e-03],\n",
            "          [ 1.8023e-03,  2.0826e-02,  1.9088e-04,  ...,  1.0188e-02,\n",
            "            1.8735e-02, -6.0488e-03],\n",
            "          [-1.1844e-02,  4.0182e-03, -5.6662e-03,  ..., -1.3187e-02,\n",
            "            5.4079e-03, -1.8683e-03]]],\n",
            "\n",
            "\n",
            "        [[[ 1.3924e-02,  2.6957e-03,  3.3041e-03,  ...,  2.7044e-04,\n",
            "            8.7075e-05,  2.2309e-03],\n",
            "          [-1.1401e-02, -8.4976e-03, -1.2542e-03,  ..., -5.2698e-03,\n",
            "            1.6127e-02, -1.0091e-02],\n",
            "          [ 9.8111e-03,  1.2894e-02,  7.0120e-03,  ..., -2.3962e-03,\n",
            "            1.4516e-03, -1.8226e-02],\n",
            "          ...,\n",
            "          [ 9.2381e-03,  2.6880e-02, -4.2440e-03,  ..., -1.4986e-03,\n",
            "           -3.4203e-03, -8.3678e-03],\n",
            "          [ 8.6488e-04, -8.8040e-03, -1.0944e-02,  ...,  2.0339e-02,\n",
            "           -2.7424e-03, -1.0086e-02],\n",
            "          [ 5.4061e-03,  1.7611e-04,  5.1975e-03,  ...,  1.3733e-02,\n",
            "           -1.6284e-02,  8.1013e-03]],\n",
            "\n",
            "         [[-3.3243e-03, -2.4877e-03, -2.1690e-03,  ...,  2.5958e-03,\n",
            "           -2.5461e-03, -1.1943e-02],\n",
            "          [ 9.3542e-04,  1.0565e-02,  2.1110e-02,  ...,  8.7392e-03,\n",
            "            9.6146e-03,  1.6758e-02],\n",
            "          [-7.1941e-03, -1.3938e-02,  2.9953e-03,  ..., -8.0088e-03,\n",
            "            1.7917e-02,  1.1588e-02],\n",
            "          ...,\n",
            "          [-6.0070e-03,  7.3350e-03,  9.8592e-03,  ..., -9.3228e-03,\n",
            "            1.0645e-02,  6.7036e-03],\n",
            "          [ 3.7783e-03,  1.5292e-03,  3.1603e-03,  ..., -9.6841e-03,\n",
            "            1.0327e-02,  3.1000e-04],\n",
            "          [ 3.0969e-04,  2.3352e-03, -2.3362e-03,  ..., -8.4581e-05,\n",
            "            1.2625e-02, -7.7204e-03]],\n",
            "\n",
            "         [[ 1.2571e-02,  1.0512e-03, -1.0073e-03,  ..., -5.3181e-03,\n",
            "           -7.8386e-03, -3.5278e-03],\n",
            "          [ 5.6185e-03,  5.0225e-03,  1.1953e-02,  ...,  2.0758e-02,\n",
            "           -8.7475e-03, -1.0595e-05],\n",
            "          [-1.2106e-02,  6.2046e-03, -1.0861e-02,  ..., -5.8706e-03,\n",
            "            1.6233e-02, -1.5547e-03],\n",
            "          ...,\n",
            "          [ 2.7751e-03,  1.2585e-02, -4.9733e-03,  ...,  1.0226e-02,\n",
            "            1.1662e-02, -6.7476e-03],\n",
            "          [ 1.4076e-02, -5.4807e-03, -6.0151e-03,  ...,  2.8290e-04,\n",
            "            3.8539e-04, -2.0912e-03],\n",
            "          [-1.3196e-02, -1.5876e-02, -8.5580e-03,  ...,  2.1266e-02,\n",
            "           -3.3524e-03,  1.0557e-02]]],\n",
            "\n",
            "\n",
            "        [[[ 1.0814e-03, -2.4585e-02,  1.7746e-02,  ...,  1.4425e-02,\n",
            "            2.2968e-02, -1.2424e-03],\n",
            "          [-1.1584e-02, -5.7210e-03, -1.7228e-03,  ..., -1.6509e-02,\n",
            "            1.4405e-03, -7.4714e-03],\n",
            "          [ 1.8572e-02,  4.2264e-03,  1.5683e-02,  ...,  7.6829e-03,\n",
            "           -2.2449e-03, -1.8882e-02],\n",
            "          ...,\n",
            "          [ 1.6651e-02,  4.5764e-03,  5.8047e-03,  ..., -9.5875e-04,\n",
            "           -1.3980e-02, -1.2658e-02],\n",
            "          [ 3.7883e-03, -6.4920e-03,  7.0143e-03,  ...,  1.1814e-02,\n",
            "            1.0476e-02,  5.0294e-03],\n",
            "          [ 4.4998e-03, -1.2918e-02,  1.0467e-02,  ..., -6.7955e-03,\n",
            "           -3.9064e-03, -1.0714e-02]],\n",
            "\n",
            "         [[-2.7470e-03, -9.2233e-03,  5.2196e-03,  ...,  1.1604e-02,\n",
            "            8.4230e-03,  1.2428e-02],\n",
            "          [ 1.5274e-02, -1.0825e-02, -5.0188e-03,  ..., -5.2498e-03,\n",
            "           -1.2502e-02, -7.7391e-03],\n",
            "          [-3.9597e-03,  1.3514e-02,  1.1998e-02,  ...,  1.3020e-02,\n",
            "           -6.1391e-03, -1.5503e-02],\n",
            "          ...,\n",
            "          [-2.5025e-03, -5.2202e-04,  1.5401e-02,  ...,  1.3562e-02,\n",
            "            1.3276e-02,  2.9276e-03],\n",
            "          [ 2.3722e-03,  5.4951e-03, -1.5693e-02,  ..., -7.8643e-03,\n",
            "           -7.2053e-03, -3.4091e-03],\n",
            "          [-1.6633e-02,  1.7505e-02,  3.5023e-03,  ...,  2.0208e-02,\n",
            "           -2.7463e-03, -2.2800e-02]],\n",
            "\n",
            "         [[ 2.2404e-03,  7.4190e-03, -3.9992e-04,  ..., -8.9955e-04,\n",
            "            9.4772e-03, -1.1198e-02],\n",
            "          [-1.3790e-03, -4.8491e-03,  1.1677e-02,  ...,  2.8475e-03,\n",
            "           -1.1950e-02, -3.2314e-03],\n",
            "          [-9.2166e-03,  1.4362e-04,  7.6549e-03,  ..., -1.6432e-02,\n",
            "           -6.5762e-03,  9.9571e-03],\n",
            "          ...,\n",
            "          [-4.9870e-04, -1.3607e-03,  7.1121e-03,  ..., -2.1619e-03,\n",
            "            1.4765e-02, -1.2879e-02],\n",
            "          [ 6.3345e-03, -4.4095e-03, -1.1428e-02,  ..., -7.6894e-03,\n",
            "           -2.2678e-03,  2.6165e-03],\n",
            "          [-5.4492e-03, -8.1465e-04,  1.3523e-02,  ..., -1.1552e-02,\n",
            "            7.2604e-03, -3.0141e-02]]],\n",
            "\n",
            "\n",
            "        ...,\n",
            "\n",
            "\n",
            "        [[[-5.2753e-04,  1.8493e-02,  1.8902e-03,  ..., -1.0369e-03,\n",
            "            2.4192e-02, -1.3973e-02],\n",
            "          [-4.1965e-04,  1.8511e-02,  8.8138e-04,  ...,  9.2053e-03,\n",
            "           -4.1804e-03, -1.5928e-03],\n",
            "          [ 8.0577e-03,  1.1970e-02,  1.8750e-03,  ..., -1.6156e-02,\n",
            "            7.8633e-04,  3.7914e-03],\n",
            "          ...,\n",
            "          [-7.1461e-03, -9.7635e-03,  1.0092e-02,  ...,  4.4871e-03,\n",
            "            2.0647e-02,  1.3002e-02],\n",
            "          [ 1.3876e-02, -2.2911e-03,  1.2792e-02,  ..., -1.3463e-03,\n",
            "           -7.8433e-03,  2.2844e-03],\n",
            "          [-1.5207e-02, -8.5897e-03,  5.9699e-03,  ..., -1.6861e-03,\n",
            "            1.3934e-02, -4.9385e-03]],\n",
            "\n",
            "         [[-2.5758e-03,  2.4644e-03,  4.8583e-03,  ..., -1.7278e-02,\n",
            "            2.1711e-03,  1.1345e-02],\n",
            "          [-3.2328e-03, -1.1889e-02, -9.4593e-04,  ..., -1.1599e-02,\n",
            "           -1.2516e-03, -1.2415e-02],\n",
            "          [-1.4950e-02,  4.7892e-03,  5.5635e-03,  ...,  4.9462e-03,\n",
            "           -7.5172e-03, -4.6700e-03],\n",
            "          ...,\n",
            "          [ 1.3608e-03,  4.5023e-03,  2.4098e-03,  ...,  4.4122e-03,\n",
            "           -3.3941e-03, -2.0420e-02],\n",
            "          [-1.7150e-03,  2.2042e-03,  8.0635e-03,  ...,  8.5060e-03,\n",
            "           -4.4077e-03, -1.5493e-02],\n",
            "          [ 1.3331e-02,  3.0675e-04, -4.5421e-03,  ...,  5.3655e-03,\n",
            "           -1.1788e-02, -5.5827e-03]],\n",
            "\n",
            "         [[ 1.0866e-05,  1.8208e-02,  6.6390e-03,  ..., -4.7702e-03,\n",
            "           -3.4149e-03, -1.3806e-02],\n",
            "          [ 1.6211e-02,  6.5048e-03,  6.4848e-03,  ..., -9.0228e-03,\n",
            "           -5.3179e-03,  1.1137e-02],\n",
            "          [ 1.8590e-03,  2.2705e-03, -6.7080e-03,  ..., -1.5288e-02,\n",
            "            3.2822e-03,  4.8553e-04],\n",
            "          ...,\n",
            "          [-1.2003e-02, -3.4056e-04, -1.7277e-02,  ..., -1.3228e-02,\n",
            "           -8.0343e-04, -1.0833e-02],\n",
            "          [-4.1458e-03, -1.3326e-02, -2.0849e-03,  ...,  9.6609e-04,\n",
            "           -1.4940e-03, -3.0612e-03],\n",
            "          [ 1.1621e-02, -1.3138e-02, -4.2951e-03,  ..., -9.9085e-04,\n",
            "           -1.7335e-02,  3.2618e-03]]],\n",
            "\n",
            "\n",
            "        [[[ 1.3260e-02, -4.1136e-03, -1.8593e-03,  ..., -1.8694e-03,\n",
            "           -9.8919e-03,  1.4199e-02],\n",
            "          [-3.7420e-04, -9.7578e-03,  1.1248e-02,  ..., -1.6104e-02,\n",
            "            1.3145e-02,  3.2818e-03],\n",
            "          [-4.5503e-03, -9.6024e-03,  1.8969e-02,  ..., -2.7664e-04,\n",
            "           -1.4042e-02, -2.2961e-03],\n",
            "          ...,\n",
            "          [-4.1662e-03,  7.2874e-03, -8.9246e-03,  ...,  2.2064e-02,\n",
            "            1.7921e-02,  1.0903e-02],\n",
            "          [-8.4039e-03,  5.9643e-03,  2.2261e-04,  ..., -5.6831e-03,\n",
            "           -7.9000e-03,  1.7014e-02],\n",
            "          [ 7.1917e-03,  1.4051e-02, -7.1724e-03,  ..., -1.6778e-02,\n",
            "            5.4117e-03,  6.8280e-03]],\n",
            "\n",
            "         [[-6.2287e-03, -1.6350e-02,  1.0755e-03,  ...,  4.6672e-03,\n",
            "           -8.1178e-03,  1.3634e-03],\n",
            "          [ 1.1716e-03, -1.8670e-02,  1.8821e-03,  ...,  5.3434e-03,\n",
            "           -3.0418e-03,  1.4956e-02],\n",
            "          [-1.6655e-02, -2.4890e-03,  3.8744e-03,  ..., -4.7751e-03,\n",
            "            1.7635e-02, -5.1353e-03],\n",
            "          ...,\n",
            "          [ 1.1245e-02, -6.8584e-03,  4.5534e-03,  ...,  3.5899e-03,\n",
            "           -7.5420e-03,  3.8202e-03],\n",
            "          [-8.4406e-03, -1.0333e-02,  5.6543e-03,  ...,  1.1840e-02,\n",
            "           -6.2958e-03,  5.6264e-04],\n",
            "          [ 6.9101e-03, -8.1019e-04,  1.6264e-03,  ...,  1.6846e-03,\n",
            "            3.6306e-03,  7.0233e-03]],\n",
            "\n",
            "         [[-8.4819e-03, -2.5329e-03, -1.1179e-02,  ...,  1.0526e-02,\n",
            "           -2.0876e-03, -1.7344e-02],\n",
            "          [ 6.4704e-04, -1.0243e-03, -3.3421e-03,  ..., -1.1956e-03,\n",
            "            5.9148e-03, -9.4026e-03],\n",
            "          [-5.2925e-03,  8.4038e-03, -1.1942e-02,  ..., -1.1373e-03,\n",
            "            9.5678e-03,  5.9096e-03],\n",
            "          ...,\n",
            "          [-8.5180e-03, -1.6764e-02, -1.3920e-02,  ..., -5.7490e-03,\n",
            "            7.6031e-03,  5.3274e-03],\n",
            "          [-3.6605e-03, -5.5923e-04, -4.0596e-03,  ...,  9.4361e-03,\n",
            "           -1.0304e-02, -4.3763e-03],\n",
            "          [ 1.6307e-02, -1.3143e-03,  1.7259e-02,  ...,  2.2014e-03,\n",
            "            4.9190e-03, -1.1911e-02]]],\n",
            "\n",
            "\n",
            "        [[[ 3.5909e-03, -1.3538e-02, -2.7063e-03,  ..., -6.1564e-03,\n",
            "            1.6984e-03,  1.3120e-02],\n",
            "          [ 2.3201e-03, -7.1190e-03, -2.0166e-02,  ...,  3.6880e-03,\n",
            "           -4.2217e-03, -4.1413e-03],\n",
            "          [ 4.2746e-03,  7.5566e-03,  7.3610e-03,  ...,  6.4383e-03,\n",
            "           -8.6708e-03,  2.9138e-03],\n",
            "          ...,\n",
            "          [-4.3789e-03,  1.0601e-02,  1.0917e-03,  ..., -2.1182e-02,\n",
            "            5.9661e-03,  6.4125e-03],\n",
            "          [ 2.8257e-03, -1.1825e-02, -2.0113e-02,  ..., -5.7508e-03,\n",
            "            5.9536e-04, -1.4599e-02],\n",
            "          [ 3.0297e-03, -7.6322e-03,  2.8553e-03,  ...,  4.1880e-03,\n",
            "            7.9709e-03,  3.5556e-04]],\n",
            "\n",
            "         [[-1.2706e-02, -9.3283e-03, -1.3933e-02,  ...,  1.6032e-03,\n",
            "           -1.0472e-02, -1.0577e-02],\n",
            "          [-5.9524e-03, -1.5645e-02,  1.1146e-02,  ...,  5.7906e-03,\n",
            "            6.8686e-03, -2.9973e-03],\n",
            "          [-5.7935e-03, -1.4249e-02, -7.7481e-03,  ..., -5.0082e-03,\n",
            "            2.5649e-02,  9.3280e-03],\n",
            "          ...,\n",
            "          [ 3.5060e-03, -2.0713e-04,  1.1657e-02,  ...,  1.0506e-02,\n",
            "            5.6571e-03,  8.8659e-03],\n",
            "          [ 6.2223e-03, -1.5348e-02,  1.4670e-02,  ...,  9.9031e-03,\n",
            "           -2.0940e-02,  7.6596e-03],\n",
            "          [ 7.8860e-03, -7.3242e-03,  8.6021e-03,  ...,  1.2203e-02,\n",
            "           -2.1717e-02, -3.5452e-03]],\n",
            "\n",
            "         [[-1.1891e-04,  5.7235e-04, -1.9096e-02,  ..., -1.1201e-02,\n",
            "            1.2749e-02, -5.3360e-03],\n",
            "          [-2.0601e-02,  2.6527e-04, -8.5518e-03,  ..., -3.3150e-02,\n",
            "            1.9237e-02,  1.7292e-02],\n",
            "          [ 3.7161e-03, -5.1750e-03,  3.6171e-03,  ..., -6.1135e-03,\n",
            "           -1.2168e-02, -3.2934e-03],\n",
            "          ...,\n",
            "          [-3.0348e-03, -1.6641e-02, -9.2617e-03,  ...,  9.5150e-04,\n",
            "           -1.4411e-02, -5.1298e-03],\n",
            "          [ 2.3759e-03, -2.4658e-04,  7.5790e-03,  ..., -2.2200e-02,\n",
            "           -9.7863e-04,  4.6869e-03],\n",
            "          [ 3.5235e-03, -1.2868e-02,  1.3595e-02,  ...,  4.5382e-04,\n",
            "            1.4094e-02,  4.9160e-03]]]], device='cuda:0', requires_grad=True)\n"
          ],
          "name": "stdout"
        }
      ]
    },
    {
      "cell_type": "markdown",
      "metadata": {
        "id": "QeSZhkqBuH1m"
      },
      "source": [
        "# 모델 학습"
      ]
    },
    {
      "cell_type": "code",
      "metadata": {
        "id": "wqhYl7SBt9Ar"
      },
      "source": [
        "# define the loss function\r\n",
        "loss_func = nn.CrossEntropyLoss(reduction='sum')"
      ],
      "execution_count": 116,
      "outputs": []
    },
    {
      "cell_type": "code",
      "metadata": {
        "id": "uPzGlUfVwMHR"
      },
      "source": [
        "# define the optimizer\r\n",
        "from torch import optim\r\n",
        "opt = optim.SGD(model.parameters(), lr=0.001, momentum=0.9, weight_decay=0.0005)\r\n",
        "# opt = optim.Adam(model.parameters(), lr=0.01)"
      ],
      "execution_count": 126,
      "outputs": []
    },
    {
      "cell_type": "code",
      "metadata": {
        "id": "W-fFQGasx3ed"
      },
      "source": [
        "# read the current value of the learning rate using the following function\r\n",
        "def get_lr(opt):\r\n",
        "    for param_group in opt.param_groups:\r\n",
        "        return param_group['lr']"
      ],
      "execution_count": 127,
      "outputs": []
    },
    {
      "cell_type": "code",
      "metadata": {
        "id": "S9Byk7JPxaft"
      },
      "source": [
        "# define lr_scheduler : 1/10 per 10 epochs\r\n",
        "from torch.optim.lr_scheduler import StepLR\r\n",
        "lr_scheduler = optim.lr_scheduler.StepLR(opt, step_size=30, gamma=0.1)"
      ],
      "execution_count": 128,
      "outputs": []
    },
    {
      "cell_type": "code",
      "metadata": {
        "id": "6UHyV3LuyWNb"
      },
      "source": [
        "# define a function to count the number of correct predictions per mini-batch\r\n",
        "def metrics_batch(output, target):\r\n",
        "    # get output class\r\n",
        "    pred = output.argmax(dim=1, keepdim=True)\r\n",
        "    # compare output class with target class\r\n",
        "    corrects = pred.eq(target.view_as(pred)).sum().item()\r\n",
        "    return corrects"
      ],
      "execution_count": 129,
      "outputs": []
    },
    {
      "cell_type": "code",
      "metadata": {
        "id": "FMukRj-dymYk"
      },
      "source": [
        "# define a function to compute the loss value per mini-batch\r\n",
        "def loss_batch(loss_func, output, target, opt=None):\r\n",
        "    loss = loss_func(output, target)\r\n",
        "\r\n",
        "    metric_b = metrics_batch(output, target)\r\n",
        "    if opt is not None:\r\n",
        "        opt.zero_grad()\r\n",
        "        loss.backward()\r\n",
        "        opt.step()\r\n",
        "    return loss.item(), metric_b"
      ],
      "execution_count": 130,
      "outputs": []
    },
    {
      "cell_type": "code",
      "metadata": {
        "id": "73DzbhBZ0i3f"
      },
      "source": [
        "# develop a function to compute the loss value and the performance metric for the epoch\r\n",
        "def loss_epoch(model, loss_func, dataset_dl, sanity_check=False, opt=None):\r\n",
        "    running_loss = 0\r\n",
        "    running_metric = 0\r\n",
        "    len_data = len(dataset_dl.dataset)\r\n",
        "\r\n",
        "    for xb, yb in dataset_dl:\r\n",
        "        # move batcch to device\r\n",
        "        xb = xb.to(device)\r\n",
        "        yb = yb.to(device)\r\n",
        "        # get model output\r\n",
        "        output = model(xb)\r\n",
        "\r\n",
        "        # get loss per batch\r\n",
        "        loss_b, metric_b = loss_batch(loss_func, output, yb, opt)\r\n",
        "\r\n",
        "        # update running loss\r\n",
        "        running_loss += loss_b\r\n",
        "        # update running metric\r\n",
        "        if metric_b is not None:\r\n",
        "            running_metric += metric_b\r\n",
        "        \r\n",
        "        # break the loop in case of sanity check\r\n",
        "        if sanity_check is True:\r\n",
        "            break\r\n",
        "\r\n",
        "    # average loss value and metric value\r\n",
        "    loss = running_loss / float(len_data)\r\n",
        "    metric = running_metric / float(len_data)\r\n",
        "    return loss, metric"
      ],
      "execution_count": 131,
      "outputs": []
    },
    {
      "cell_type": "code",
      "metadata": {
        "id": "JfCxBjdr14Qw"
      },
      "source": [
        "import time\r\n",
        "import copy\r\n",
        "\r\n",
        "# develop train_val function\r\n",
        "def train_val(model, params):\r\n",
        "    # extract model parameters\r\n",
        "    num_epochs = params['num_epochs']\r\n",
        "    loss_func = params['loss_func']\r\n",
        "    opt = params['optimizer']\r\n",
        "    train_dl = params['train_dl']\r\n",
        "    val_dl = params['val_dl']\r\n",
        "    sanity_check = params['sanity_check']\r\n",
        "    lr_scheduler = params['lr_scheduler']\r\n",
        "    path2weights = params['path2weights']\r\n",
        "\r\n",
        "    # keep a history of the loss and the metric value\r\n",
        "    loss_history = {\r\n",
        "        'train': [],\r\n",
        "        'val': [],\r\n",
        "    }\r\n",
        "\r\n",
        "    metric_history = {\r\n",
        "        'train': [],\r\n",
        "        'val': [],\r\n",
        "    }\r\n",
        "\r\n",
        "    # save the best perfirming model\r\n",
        "    best_model_wts = copy.deepcopy(model.state_dict())\r\n",
        "\r\n",
        "    # initializer the best loss to an infinite value\r\n",
        "    best_loss = float('inf')\r\n",
        "\r\n",
        "    for epoch in range(num_epochs):\r\n",
        "        start_time = time.time()\r\n",
        "\r\n",
        "        # get current learning rate\r\n",
        "        current_lr = get_lr(opt)\r\n",
        "        print('Epoch {}/{}, current lr={}'.format(epoch, num_epochs-1, current_lr))\r\n",
        "\r\n",
        "        # train model on trainin dataset\r\n",
        "        model.train()\r\n",
        "        train_loss, train_metric = loss_epoch(model, loss_func, train_dl, sanity_check, opt)\r\n",
        "\r\n",
        "        # collect loss and metric for the training dataset\r\n",
        "        loss_history['train'].append(train_loss)\r\n",
        "        metric_history['train'].append(train_metric)\r\n",
        "\r\n",
        "        # evaluate model on validation dataset\r\n",
        "        model.eval()\r\n",
        "        with torch.no_grad():\r\n",
        "            val_loss, val_metric = loss_epoch(model, loss_func, val_dl, sanity_check)\r\n",
        "        \r\n",
        "        # store the best model\r\n",
        "        if val_loss < best_loss:\r\n",
        "            best_loss = val_loss\r\n",
        "            best_model_wts = copy.deepcopy(model.state_dict())\r\n",
        "            # store weights into a local file\r\n",
        "            torch.save(model.state_dict(), path2weights)\r\n",
        "            print('Copied best model weights')\r\n",
        "\r\n",
        "        # collect loss and metric for validation dataset\r\n",
        "        loss_history[\"val\"].append(val_loss)\r\n",
        "        metric_history[\"val\"].append(val_metric)\r\n",
        "\r\n",
        "        # update the learning rate\r\n",
        "        lr_scheduler.step()\r\n",
        "        if current_lr != get_lr(opt):\r\n",
        "            print('Loading best model weights!')\r\n",
        "            model.load_state_dict(best_model_wts)\r\n",
        "\r\n",
        "        # print the loss and accuracy values and return the trained model\r\n",
        "        print('train loss: %.6f, dev loss: %.6f, accuracy: %.2f, time: %.4f s' %(train_loss, val_loss, 100*val_metric, time.time()-start_time))\r\n",
        "        print('-'*10)\r\n",
        "\r\n",
        "    # load best model weights\r\n",
        "    model.load_state_dict(best_model_wts)\r\n",
        "    return model, loss_history, metric_history"
      ],
      "execution_count": 123,
      "outputs": []
    },
    {
      "cell_type": "code",
      "metadata": {
        "id": "VudDRaSo73Ok"
      },
      "source": [
        "# define the training parameters\r\n",
        "params_train = {\r\n",
        "    'num_epochs':3,\r\n",
        "    'optimizer':opt,\r\n",
        "    'loss_func':loss_func,\r\n",
        "    'train_dl':train_dl,\r\n",
        "    'val_dl':val_dl,\r\n",
        "    'sanity_check':True,\r\n",
        "    'lr_scheduler':lr_scheduler,\r\n",
        "    'path2weights':'./models/weights.pt',\r\n",
        "}\r\n",
        "\r\n",
        "# check the directory to save weights.pt\r\n",
        "def createFolder(directory):\r\n",
        "    try:\r\n",
        "        if not os.path.exists(directory):\r\n",
        "            os.makedirs(directory)\r\n",
        "    except OSerror:\r\n",
        "        print('Error')\r\n",
        "createFolder('./models')"
      ],
      "execution_count": 133,
      "outputs": []
    },
    {
      "cell_type": "code",
      "metadata": {
        "colab": {
          "base_uri": "https://localhost:8080/"
        },
        "id": "WpJYt1z8-5qx",
        "outputId": "d4c48f26-98a3-4c77-b2a7-69823585cc54"
      },
      "source": [
        "# train model\r\n",
        "# sanity_check를 True로 설정하여, 학습이 되는지 확인해봅니다.\r\n",
        "model, loss_hist, metric_hist = train_val(model, params_train)"
      ],
      "execution_count": 135,
      "outputs": [
        {
          "output_type": "stream",
          "text": [
            "Epoch 0/2, current lr=0.001\n",
            "Copied best model weights\n",
            "train loss: 0.015448, dev loss: 0.048636, accuracy: 0.31, time: 0.8987 s\n",
            "----------\n",
            "Epoch 1/2, current lr=0.001\n",
            "Copied best model weights\n",
            "train loss: 0.015961, dev loss: 0.046855, accuracy: 0.12, time: 0.8879 s\n",
            "----------\n",
            "Epoch 2/2, current lr=0.001\n",
            "Copied best model weights\n",
            "train loss: 0.014831, dev loss: 0.046562, accuracy: 0.12, time: 1.6279 s\n",
            "----------\n"
          ],
          "name": "stdout"
        }
      ]
    },
    {
      "cell_type": "code",
      "metadata": {
        "colab": {
          "base_uri": "https://localhost:8080/",
          "height": 573
        },
        "id": "H7Symikd_BJH",
        "outputId": "eaf83c3b-b5d8-45e0-b711-934f7396a3c5"
      },
      "source": [
        "\r\n",
        "# Train-Validation Progress\r\n",
        "num_epochs=params_train[\"num_epochs\"]\r\n",
        "\r\n",
        "# plot loss progress\r\n",
        "plt.title(\"Train-Val Loss\")\r\n",
        "plt.plot(range(1,num_epochs+1),loss_hist[\"train\"],label=\"train\")\r\n",
        "plt.plot(range(1,num_epochs+1),loss_hist[\"val\"],label=\"val\")\r\n",
        "plt.ylabel(\"Loss\")\r\n",
        "plt.xlabel(\"Training Epochs\")\r\n",
        "plt.legend()\r\n",
        "plt.show()\r\n",
        "\r\n",
        "# plot accuracy progress\r\n",
        "plt.title(\"Train-Val Accuracy\")\r\n",
        "plt.plot(range(1,num_epochs+1),metric_hist[\"train\"],label=\"train\")\r\n",
        "plt.plot(range(1,num_epochs+1),metric_hist[\"val\"],label=\"val\")\r\n",
        "plt.ylabel(\"Accuracy\")\r\n",
        "plt.xlabel(\"Training Epochs\")\r\n",
        "plt.legend()\r\n",
        "plt.show()"
      ],
      "execution_count": null,
      "outputs": [
        {
          "output_type": "display_data",
          "data": {
            "image/png": "[encoded data removed]",
            "text/plain": [
              "<Figure size 432x288 with 1 Axes>"
            ]
          },
          "metadata": {
            "tags": [],
            "needs_background": "light"
          }
        },
        {
          "output_type": "display_data",
          "data": {
            "image/png": "[encoded data removed]",
            "text/plain": [
              "<Figure size 432x288 with 1 Axes>"
            ]
          },
          "metadata": {
            "tags": [],
            "needs_background": "light"
          }
        }
      ]
    },
    {
      "cell_type": "code",
      "metadata": {
        "id": "9RaTWxHPUCFM"
      },
      "source": [
        ""
      ],
      "execution_count": null,
      "outputs": []
    }
  ]
}
